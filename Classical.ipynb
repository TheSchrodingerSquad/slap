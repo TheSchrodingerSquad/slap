{
 "cells": [
  {
   "cell_type": "markdown",
   "metadata": {},
   "source": [
    "# Classical Component"
   ]
  },
  {
   "cell_type": "code",
   "execution_count": null,
   "metadata": {},
   "outputs": [],
   "source": [
    "import qsharp\n",
    "# qsharp.reload() helped when couldn't locate any namespaces\n",
    "# qsharp.get_available_operations_by_namespace() was good for debugging"
   ]
  },
  {
   "cell_type": "code",
   "execution_count": null,
   "metadata": {
    "vscode": {
     "languageId": "qsharp"
    }
   },
   "outputs": [],
   "source": [
    "qsharp.get_available_operations_by_namespace()"
   ]
  },
  {
   "cell_type": "code",
   "execution_count": null,
   "metadata": {},
   "outputs": [],
   "source": [
    "qsharp.packages.add(\"Microsoft.Quantum.Chemistry\")\n",
    "# packs = qsharp.Packages(qsharp.client)\n",
    "# packs.add(package_name=\"Microsoft.Quantum.Chemistry\")"
   ]
  },
  {
   "cell_type": "code",
   "execution_count": null,
   "metadata": {},
   "outputs": [],
   "source": [
    "qsharp.reload()\n",
    "qsharp.get_available_operations_by_namespace()"
   ]
  },
  {
   "cell_type": "code",
   "execution_count": null,
   "metadata": {},
   "outputs": [],
   "source": [
    "from SLAP import VQEGetEnergy, PEAGetEnergy"
   ]
  },
  {
   "cell_type": "code",
   "execution_count": null,
   "metadata": {},
   "outputs": [],
   "source": [
    "# from qdk.chemistry import Molecule\n",
    "from qdk.chemistry.broombridge import load_and_encode"
   ]
  },
  {
   "cell_type": "code",
   "execution_count": null,
   "metadata": {},
   "outputs": [],
   "source": [
    "# caffine = Molecule.from_xyz(\"data/caffeine/caffeine.xyz\")"
   ]
  },
  {
   "cell_type": "code",
   "execution_count": null,
   "metadata": {},
   "outputs": [],
   "source": [
    "# caffine.mol"
   ]
  },
  {
   "cell_type": "code",
   "execution_count": null,
   "metadata": {},
   "outputs": [],
   "source": [
    "from scipy.optimize import minimize\n",
    "\n",
    "def VQEGetEnergyWrapper(var_params, molecule_data, num_samples) -> float:\n",
    "    theta1, theta2, theta3 = var_params\n",
    "    return VQEGetEnergy.simulate(\n",
    "        JWEncodedData=molecule_data,\n",
    "        theta1=theta1,\n",
    "        theta2=theta2,\n",
    "        theta3=theta3,\n",
    "        nSamples=num_samples\n",
    "    )\n",
    "\n",
    "def VQE_Classical_Routine(molecule_data, initial_var_params, num_samples):\n",
    "    \"\"\" Run VQE Optimization to find the optimal energy and the associated variational parameters \"\"\"\n",
    "    opt_result = minimize(\n",
    "        VQEGetEnergyWrapper,\n",
    "        initial_var_params,\n",
    "        args=(molecule_data, num_samples,),\n",
    "        method=\"COBYLA\",\n",
    "        tol=0.000001,\n",
    "        options={'disp': True, 'maxiter': 200,'rhobeg' : 0.05}\n",
    "    )\n",
    "\n",
    "    if opt_result.success:\n",
    "        print(opt_result.message)\n",
    "        print(f\"Lowest Energy: {opt_result.fun} Ha\")\n",
    "        print(f\"Number of evaluations: {opt_result.nfev}\")\n",
    "        print(f\"Optimal parameters found: {opt_result.x}\")\n",
    "\n",
    "    return opt_result"
   ]
  },
  {
   "cell_type": "code",
   "execution_count": null,
   "metadata": {},
   "outputs": [],
   "source": [
    "encoded_data = load_and_encode(\"data/H2/H2.yaml\")"
   ]
  },
  {
   "cell_type": "code",
   "execution_count": null,
   "metadata": {},
   "outputs": [],
   "source": [
    "# encoded_data"
   ]
  },
  {
   "cell_type": "code",
   "execution_count": null,
   "metadata": {},
   "outputs": [],
   "source": [
    "VQE_Classical_Routine(encoded_data, [0.001, -0.001, 0.001], 1)"
   ]
  },
  {
   "cell_type": "code",
   "execution_count": null,
   "metadata": {},
   "outputs": [],
   "source": [
    "VQEGetEnergy.simulate(\n",
    "    JWEncodedData=encoded_data,\n",
    "    theta1=0.001,\n",
    "    theta2=-0.001,\n",
    "    theta3=0.001,\n",
    "    nSamples=100\n",
    ")"
   ]
  },
  {
   "cell_type": "code",
   "execution_count": null,
   "metadata": {},
   "outputs": [],
   "source": [
    "# VQEGetEnergy.estimate_resources(\n",
    "#     JWEncodedData=encoded_data,\n",
    "#     theta1=0.001,\n",
    "#     theta2=-0.001,\n",
    "#     theta3=0.001,\n",
    "#     nSamples=1\n",
    "# )"
   ]
  },
  {
   "cell_type": "code",
   "execution_count": null,
   "metadata": {},
   "outputs": [],
   "source": [
    "PEAGetEnergy.simulate(\n",
    "    qSharpData=encoded_data,\n",
    "    nBitsPrecision=10,\n",
    "    trotterStepSize=0.2,\n",
    "    trotterOrder=1\n",
    ")"
   ]
  },
  {
   "cell_type": "code",
   "execution_count": null,
   "metadata": {},
   "outputs": [],
   "source": [
    "PEAGetEnergy.estimate_resources(\n",
    "    qSharpData=encoded_data,\n",
    "    nBitsPrecision=10,\n",
    "    trotterStepSize=0.2,\n",
    "    trotterOrder=1\n",
    ")"
   ]
  },
  {
   "cell_type": "code",
   "execution_count": null,
   "metadata": {},
   "outputs": [],
   "source": [
    "res = {}\n",
    "for i in [1, 10, 50, 100, 250, 500, 1000, 5000, 10000, 1000000]:\n",
    "    res[i] = VQEGetEnergy.simulate(\n",
    "        JWEncodedData=encoded_data,\n",
    "        theta1=0.001,\n",
    "        theta2=-0.001,\n",
    "        theta3=0.001,\n",
    "        nSamples=i\n",
    "    )\n",
    "    print(i)"
   ]
  },
  {
   "cell_type": "code",
   "execution_count": null,
   "metadata": {},
   "outputs": [],
   "source": [
    "res"
   ]
  }
 ],
 "metadata": {
  "kernelspec": {
   "display_name": "qscompat",
   "language": "python",
   "name": "python3"
  },
  "language_info": {
   "codemirror_mode": {
    "name": "ipython",
    "version": 3
   },
   "file_extension": ".py",
   "mimetype": "text/x-python",
   "name": "python",
   "nbconvert_exporter": "python",
   "pygments_lexer": "ipython3",
   "version": "3.7.16"
  },
  "orig_nbformat": 4
 },
 "nbformat": 4,
 "nbformat_minor": 2
}
