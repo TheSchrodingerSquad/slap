{
 "cells": [
  {
   "cell_type": "markdown",
   "metadata": {},
   "source": [
    "# Classical Component VQE"
   ]
  },
  {
   "cell_type": "code",
   "execution_count": 1,
   "metadata": {
    "vscode": {
     "languageId": "qsharp"
    }
   },
   "outputs": [
    {
     "name": "stdout",
     "output_type": "stream",
     "text": [
      "Preparing Q# environment...\n"
     ]
    }
   ],
   "source": [
    "import qsharp\n",
    "# qsharp.reload() helped when couldn't locate any namespaces\n",
    "# qsharp.get_available_operations_by_namespace() was good for debugging"
   ]
  },
  {
   "cell_type": "code",
   "execution_count": 2,
   "metadata": {
    "vscode": {
     "languageId": "qsharp"
    }
   },
   "outputs": [
    {
     "data": {
      "text/plain": [
       "{'SLAP': ['Ansatz', 'GetEnergyByTrotterization', 'VQEGetEnergy']}"
      ]
     },
     "execution_count": 2,
     "metadata": {},
     "output_type": "execute_result"
    }
   ],
   "source": [
    "qsharp.get_available_operations_by_namespace()"
   ]
  },
  {
   "cell_type": "code",
   "execution_count": 3,
   "metadata": {},
   "outputs": [
    {
     "data": {
      "application/x-qsharp-data": "{\"LastUpdated\":\"2023-08-03T15:45:07.454756-04:00\",\"IsCompleted\":false,\"Description\":\"Adding package Microsoft.Quantum.Chemistry\",\"Subtask\":null}",
      "text/plain": [
       "Adding package Microsoft.Quantum.Chemistry."
      ]
     },
     "metadata": {},
     "output_type": "display_data"
    }
   ],
   "source": [
    "packs = qsharp.Packages(qsharp.client)\n",
    "packs.add(package_name=\"Microsoft.Quantum.Chemistry\")"
   ]
  },
  {
   "cell_type": "code",
   "execution_count": 4,
   "metadata": {
    "vscode": {
     "languageId": "qsharp"
    }
   },
   "outputs": [
    {
     "data": {
      "application/x-qsharp-data": "{\"LastUpdated\":\"2023-08-03T15:45:08.454144-04:00\",\"IsCompleted\":false,\"Description\":\"Reloading workspace\",\"Subtask\":null}",
      "text/plain": [
       "Reloading workspace."
      ]
     },
     "metadata": {},
     "output_type": "display_data"
    },
    {
     "data": {
      "text/plain": [
       "{'SLAP': ['Ansatz', 'GetEnergyByTrotterization', 'VQEGetEnergy']}"
      ]
     },
     "execution_count": 4,
     "metadata": {},
     "output_type": "execute_result"
    }
   ],
   "source": [
    "qsharp.reload()\n",
    "qsharp.get_available_operations_by_namespace()"
   ]
  },
  {
   "cell_type": "code",
   "execution_count": 5,
   "metadata": {
    "vscode": {
     "languageId": "qsharp"
    }
   },
   "outputs": [],
   "source": [
    "from SLAP import VQEGetEnergy"
   ]
  },
  {
   "cell_type": "code",
   "execution_count": 6,
   "metadata": {
    "vscode": {
     "languageId": "qsharp"
    }
   },
   "outputs": [
    {
     "data": {
      "application/x-qsharp-data": "{\"LastUpdated\":\"2023-08-03T15:45:22.1811356-04:00\",\"IsCompleted\":false,\"Description\":\"Adding package microsoft.quantum.chemistry.jupyter\",\"Subtask\":null}",
      "text/plain": [
       "Adding package microsoft.quantum.chemistry.jupyter."
      ]
     },
     "metadata": {},
     "output_type": "display_data"
    }
   ],
   "source": [
    "from qdk.chemistry import Molecule\n",
    "from qdk.chemistry.broombridge import load_and_encode"
   ]
  },
  {
   "cell_type": "code",
   "execution_count": 7,
   "metadata": {
    "vscode": {
     "languageId": "qsharp"
    }
   },
   "outputs": [],
   "source": [
    "caffine = Molecule.from_xyz(\"data/caffeine/caffeine.xyz\")"
   ]
  },
  {
   "cell_type": "code",
   "execution_count": 8,
   "metadata": {
    "vscode": {
     "languageId": "qsharp"
    }
   },
   "outputs": [
    {
     "data": {
      "image/png": "[encoded data removed]",
      "text/plain": [
       "<rdkit.Chem.rdchem.Mol at 0x198bb294080>"
      ]
     },
     "execution_count": 8,
     "metadata": {},
     "output_type": "execute_result"
    }
   ],
   "source": [
    "caffine.mol"
   ]
  },
  {
   "cell_type": "code",
   "execution_count": 9,
   "metadata": {
    "vscode": {
     "languageId": "qsharp"
    }
   },
   "outputs": [],
   "source": [
    "encoded_data_caffeine = load_and_encode(\"data/caffeine/caffeine.yaml\")"
   ]
  },
  {
   "cell_type": "code",
   "execution_count": 11,
   "metadata": {
    "vscode": {
     "languageId": "qsharp"
    }
   },
   "outputs": [
    {
     "data": {
      "text/plain": [
       "-627.6287404054326"
      ]
     },
     "execution_count": 11,
     "metadata": {},
     "output_type": "execute_result"
    }
   ],
   "source": [
    "VQEGetEnergy.simulate(\n",
    "    JWEncodedData=encoded_data_caffeine,\n",
    "    theta1=0.001,\n",
    "    theta2=-0.001,\n",
    "    theta3=0.001,\n",
    "    nSamples=10000000\n",
    ")"
   ]
  },
  {
   "cell_type": "code",
   "execution_count": 12,
   "metadata": {
    "vscode": {
     "languageId": "qsharp"
    }
   },
   "outputs": [],
   "source": [
    "from scipy.optimize import minimize\n",
    "\n",
    "def VQEGetEnergyWrapper(var_params, num_samples) -> float:\n",
    "    theta1, theta2, theta3 = var_params\n",
    "    return VQEGetEnergy.simulate(\n",
    "        JWEncodedData=encoded_data_caffeine,\n",
    "        theta1=theta1,\n",
    "        theta2=theta2,\n",
    "        theta3=theta3,\n",
    "        nSamples=num_samples\n",
    "    )\n",
    "\n",
    "def VQE_Classical_Routine(initial_var_params, num_samples):\n",
    "    \"\"\" Run VQE Optimization to find the optimal energy and the associated variational parameters \"\"\"\n",
    "    opt_result = minimize(\n",
    "        VQEGetEnergyWrapper,\n",
    "        initial_var_params,\n",
    "        args=(num_samples,),\n",
    "        method=\"COBYLA\",\n",
    "        tol=0.000001,\n",
    "        options={'disp': True, 'maxiter': 200,'rhobeg' : 0.05}\n",
    "    )\n",
    "\n",
    "    if opt_result.success:\n",
    "        print(opt_result.message)\n",
    "        print(f\"Lowest Energy: {opt_result.fun} Ha\")\n",
    "        print(f\"Number of evaluations: {opt_result.nfev}\")\n",
    "        print(f\"Optimal parameters found: {opt_result.x}\")\n",
    "\n",
    "    return opt_result"
   ]
  }
 ],
 "metadata": {
  "kernelspec": {
   "display_name": "qscompat",
   "language": "python",
   "name": "python3"
  },
  "language_info": {
   "codemirror_mode": {
    "name": "ipython",
    "version": 3
   },
   "file_extension": ".py",
   "mimetype": "text/x-python",
   "name": "python",
   "nbconvert_exporter": "python",
   "pygments_lexer": "ipython3",
   "version": "3.7.16"
  },
  "orig_nbformat": 4
 },
 "nbformat": 4,
 "nbformat_minor": 2
}
