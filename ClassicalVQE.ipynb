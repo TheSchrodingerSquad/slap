{
 "cells": [
  {
   "cell_type": "markdown",
   "metadata": {},
   "source": [
    "# Classical Component VQE"
   ]
  },
  {
   "cell_type": "code",
   "execution_count": 1,
   "metadata": {},
   "outputs": [
    {
     "name": "stdout",
     "output_type": "stream",
     "text": [
      "Preparing Q# environment...\n"
     ]
    }
   ],
   "source": [
    "import qsharp\n",
    "# qsharp.reload() helped when couldn't locate any namespaces\n",
    "# qsharp.get_available_operations_by_namespace() was good for debugging"
   ]
  },
  {
   "cell_type": "code",
   "execution_count": 2,
   "metadata": {
    "vscode": {
     "languageId": "qsharp"
    }
   },
   "outputs": [
    {
     "data": {
      "text/plain": [
       "{'SLAP': ['Ansatz', 'GetEnergyByTrotterization', 'VQEGetEnergy']}"
      ]
     },
     "execution_count": 2,
     "metadata": {},
     "output_type": "execute_result"
    }
   ],
   "source": [
    "qsharp.get_available_operations_by_namespace()"
   ]
  },
  {
   "cell_type": "code",
   "execution_count": 3,
   "metadata": {},
   "outputs": [
    {
     "data": {
      "application/x-qsharp-data": "{\"LastUpdated\":\"2023-08-04T21:59:09.1279103-04:00\",\"IsCompleted\":false,\"Description\":\"Adding package Microsoft.Quantum.Chemistry\",\"Subtask\":null}",
      "text/plain": [
       "Adding package Microsoft.Quantum.Chemistry."
      ]
     },
     "metadata": {},
     "output_type": "display_data"
    }
   ],
   "source": [
    "qsharp.packages.add(\"Microsoft.Quantum.Chemistry\")\n",
    "# packs = qsharp.Packages(qsharp.client)\n",
    "# packs.add(package_name=\"Microsoft.Quantum.Chemistry\")"
   ]
  },
  {
   "cell_type": "code",
   "execution_count": 4,
   "metadata": {},
   "outputs": [
    {
     "data": {
      "application/x-qsharp-data": "{\"LastUpdated\":\"2023-08-04T21:59:14.3051067-04:00\",\"IsCompleted\":false,\"Description\":\"Reloading workspace\",\"Subtask\":null}",
      "text/plain": [
       "Reloading workspace."
      ]
     },
     "metadata": {},
     "output_type": "display_data"
    },
    {
     "data": {
      "text/plain": [
       "{'SLAP': ['Ansatz', 'GetEnergyByTrotterization', 'VQEGetEnergy']}"
      ]
     },
     "execution_count": 4,
     "metadata": {},
     "output_type": "execute_result"
    }
   ],
   "source": [
    "qsharp.reload()\n",
    "qsharp.get_available_operations_by_namespace()"
   ]
  },
  {
   "cell_type": "code",
   "execution_count": 5,
   "metadata": {},
   "outputs": [],
   "source": [
    "from SLAP import VQEGetEnergy, GetEnergyByTrotterization"
   ]
  },
  {
   "cell_type": "code",
   "execution_count": 6,
   "metadata": {},
   "outputs": [
    {
     "data": {
      "application/x-qsharp-data": "{\"LastUpdated\":\"2023-08-04T21:59:38.1618637-04:00\",\"IsCompleted\":false,\"Description\":\"Adding package microsoft.quantum.chemistry.jupyter\",\"Subtask\":null}",
      "text/plain": [
       "Adding package microsoft.quantum.chemistry.jupyter."
      ]
     },
     "metadata": {},
     "output_type": "display_data"
    }
   ],
   "source": [
    "# from qdk.chemistry import Molecule\n",
    "from qdk.chemistry.broombridge import load_and_encode"
   ]
  },
  {
   "cell_type": "code",
   "execution_count": 7,
   "metadata": {},
   "outputs": [],
   "source": [
    "# caffine = Molecule.from_xyz(\"data/caffeine/caffeine.xyz\")"
   ]
  },
  {
   "cell_type": "code",
   "execution_count": 8,
   "metadata": {},
   "outputs": [],
   "source": [
    "# caffine.mol"
   ]
  },
  {
   "cell_type": "code",
   "execution_count": 9,
   "metadata": {},
   "outputs": [],
   "source": [
    "from scipy.optimize import minimize\n",
    "\n",
    "def VQEGetEnergyWrapper(var_params, molecule_data, num_samples) -> float:\n",
    "    theta1, theta2, theta3 = var_params\n",
    "    return VQEGetEnergy.simulate(\n",
    "        JWEncodedData=molecule_data,\n",
    "        theta1=theta1,\n",
    "        theta2=theta2,\n",
    "        theta3=theta3,\n",
    "        nSamples=num_samples\n",
    "    )\n",
    "\n",
    "def VQE_Classical_Routine(molecule_data, initial_var_params, num_samples):\n",
    "    \"\"\" Run VQE Optimization to find the optimal energy and the associated variational parameters \"\"\"\n",
    "    opt_result = minimize(\n",
    "        VQEGetEnergyWrapper,\n",
    "        initial_var_params,\n",
    "        args=(molecule_data, num_samples,),\n",
    "        method=\"COBYLA\",\n",
    "        tol=0.000001,\n",
    "        options={'disp': True, 'maxiter': 200,'rhobeg' : 0.05}\n",
    "    )\n",
    "\n",
    "    if opt_result.success:\n",
    "        print(opt_result.message)\n",
    "        print(f\"Lowest Energy: {opt_result.fun} Ha\")\n",
    "        print(f\"Number of evaluations: {opt_result.nfev}\")\n",
    "        print(f\"Optimal parameters found: {opt_result.x}\")\n",
    "\n",
    "    return opt_result"
   ]
  },
  {
   "cell_type": "code",
   "execution_count": 17,
   "metadata": {},
   "outputs": [],
   "source": [
    "encoded_data = load_and_encode(\"data/caffeine/caffeine.yaml\")"
   ]
  },
  {
   "cell_type": "code",
   "execution_count": 11,
   "metadata": {},
   "outputs": [
    {
     "data": {
      "text/plain": [
       "(4,\n",
       " ([([0], [0.1709946636999999]),\n",
       "   ([1], [0.1709946636999999]),\n",
       "   ([2], [-0.22217713245000004]),\n",
       "   ([3], [-0.22217713245000004])],\n",
       "  [([0, 1], [0.168559024425]),\n",
       "   ([0, 2], [0.1204687916]),\n",
       "   ([0, 3], [0.165809533925]),\n",
       "   ([1, 2], [0.165809533925]),\n",
       "   ([1, 3], [0.1204687916]),\n",
       "   ([2, 3], [0.174287548625])],\n",
       "  [],\n",
       "  [([0, 1, 2, 3], [0.0, -0.045340742325, 0.0, 0.045340742325])]),\n",
       " (2,\n",
       "  [((0.993584134540649, 0.0), [0, 1]), ((-0.11309539154673656, 0.0), [2, 3])]),\n",
       " -0.10055676285765724)"
      ]
     },
     "execution_count": 11,
     "metadata": {},
     "output_type": "execute_result"
    }
   ],
   "source": [
    "encoded_data"
   ]
  },
  {
   "cell_type": "code",
   "execution_count": 18,
   "metadata": {},
   "outputs": [],
   "source": [
    "VQE_Classical_Routine(encoded_data, [0.001, -0.001, 0.001], 1)"
   ]
  },
  {
   "cell_type": "code",
   "execution_count": 13,
   "metadata": {},
   "outputs": [
    {
     "data": {
      "text/plain": [
       "-1.116610433157657"
      ]
     },
     "execution_count": 13,
     "metadata": {},
     "output_type": "execute_result"
    }
   ],
   "source": [
    "VQEGetEnergy.simulate(\n",
    "    JWEncodedData=encoded_data,\n",
    "    theta1=0.001,\n",
    "    theta2=-0.001,\n",
    "    theta3=0.001,\n",
    "    nSamples=10000\n",
    ")"
   ]
  },
  {
   "cell_type": "code",
   "execution_count": 14,
   "metadata": {},
   "outputs": [],
   "source": [
    "# VQEGetEnergy.estimate_resources(\n",
    "#     JWEncodedData=encoded_data,\n",
    "#     theta1=0.001,\n",
    "#     theta2=-0.001,\n",
    "#     theta3=0.001,\n",
    "#     nSamples=1\n",
    "# )"
   ]
  },
  {
   "cell_type": "code",
   "execution_count": 15,
   "metadata": {},
   "outputs": [
    {
     "data": {
      "text/plain": [
       "(-0.20708740636456158, -1.135993794680465)"
      ]
     },
     "execution_count": 15,
     "metadata": {},
     "output_type": "execute_result"
    }
   ],
   "source": [
    "GetEnergyByTrotterization.simulate(\n",
    "    qSharpData=encoded_data,\n",
    "    nBitsPrecision=10,\n",
    "    trotterStepSize=0.2,\n",
    "    trotterOrder=1\n",
    ")"
   ]
  },
  {
   "cell_type": "code",
   "execution_count": 16,
   "metadata": {},
   "outputs": [],
   "source": [
    "# GetEnergyByTrotterization.estimate_resources(\n",
    "#     qSharpData=encoded_data,\n",
    "#     nBitsPrecision=10,\n",
    "#     trotterStepSize=0.2,\n",
    "#     trotterOrder=1\n",
    "# )"
   ]
  }
 ],
 "metadata": {
  "kernelspec": {
   "display_name": "qscompat",
   "language": "python",
   "name": "python3"
  },
  "language_info": {
   "codemirror_mode": {
    "name": "ipython",
    "version": 3
   },
   "file_extension": ".py",
   "mimetype": "text/x-python",
   "name": "python",
   "nbconvert_exporter": "python",
   "pygments_lexer": "ipython3",
   "version": "3.7.16"
  },
  "orig_nbformat": 4
 },
 "nbformat": 4,
 "nbformat_minor": 2
}
