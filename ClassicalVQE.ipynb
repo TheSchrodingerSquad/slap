{
 "cells": [
  {
   "cell_type": "markdown",
   "metadata": {},
   "source": [
    "# Classical Component VQE"
   ]
  },
  {
   "cell_type": "code",
   "execution_count": 1,
   "metadata": {
    "vscode": {
     "languageId": "qsharp"
    }
   },
   "outputs": [],
   "source": [
    "import qsharp\n",
    "# qsharp.reload() helped when couldn't locate any namespaces\n",
    "# qsharp.get_available_operations_by_namespace() was good for debugging"
   ]
  },
  {
   "cell_type": "code",
   "execution_count": 2,
   "metadata": {
    "vscode": {
     "languageId": "qsharp"
    }
   },
   "outputs": [
    {
     "data": {
      "text/plain": [
       "{'SLAP': ['Ansatz', 'GetEnergyByTrotterization', 'VQEGetEnergy']}"
      ]
     },
     "execution_count": 2,
     "metadata": {},
     "output_type": "execute_result"
    }
   ],
   "source": [
    "qsharp.get_available_operations_by_namespace()"
   ]
  },
  {
   "cell_type": "code",
   "execution_count": 3,
   "metadata": {},
   "outputs": [
    {
     "data": {
      "application/x-qsharp-data": "{\"LastUpdated\":\"2023-08-04T10:37:20.0426076-04:00\",\"IsCompleted\":false,\"Description\":\"Adding package Microsoft.Quantum.Chemistry\",\"Subtask\":null}",
      "text/plain": [
       "Adding package Microsoft.Quantum.Chemistry."
      ]
     },
     "metadata": {},
     "output_type": "display_data"
    }
   ],
   "source": [
    "packs = qsharp.Packages(qsharp.client)\n",
    "packs.add(package_name=\"Microsoft.Quantum.Chemistry\")"
   ]
  },
  {
   "cell_type": "code",
   "execution_count": 4,
   "metadata": {},
   "outputs": [
    {
     "data": {
      "application/x-qsharp-data": "{\"LastUpdated\":\"2023-08-04T10:37:21.351007-04:00\",\"IsCompleted\":false,\"Description\":\"Reloading workspace\",\"Subtask\":null}",
      "text/plain": [
       "Reloading workspace."
      ]
     },
     "metadata": {},
     "output_type": "display_data"
    },
    {
     "data": {
      "text/plain": [
       "{'SLAP': ['Ansatz', 'GetEnergyByTrotterization', 'VQEGetEnergy']}"
      ]
     },
     "execution_count": 4,
     "metadata": {},
     "output_type": "execute_result"
    }
   ],
   "source": [
    "qsharp.reload()\n",
    "qsharp.get_available_operations_by_namespace()"
   ]
  },
  {
   "cell_type": "code",
   "execution_count": 5,
   "metadata": {},
   "outputs": [],
   "source": [
    "from SLAP import VQEGetEnergy, GetEnergyByTrotterization"
   ]
  },
  {
   "cell_type": "code",
   "execution_count": 6,
   "metadata": {},
   "outputs": [
    {
     "data": {
      "application/x-qsharp-data": "{\"LastUpdated\":\"2023-08-04T10:37:36.2829682-04:00\",\"IsCompleted\":false,\"Description\":\"Adding package microsoft.quantum.chemistry.jupyter\",\"Subtask\":null}",
      "text/plain": [
       "Adding package microsoft.quantum.chemistry.jupyter."
      ]
     },
     "metadata": {},
     "output_type": "display_data"
    }
   ],
   "source": [
    "# from qdk.chemistry import Molecule\n",
    "from qdk.chemistry.broombridge import load_and_encode"
   ]
  },
  {
   "cell_type": "code",
   "execution_count": 7,
   "metadata": {},
   "outputs": [],
   "source": [
    "# caffine = Molecule.from_xyz(\"data/caffeine/caffeine.xyz\")"
   ]
  },
  {
   "cell_type": "code",
   "execution_count": 8,
   "metadata": {},
   "outputs": [],
   "source": [
    "# caffine.mol"
   ]
  },
  {
   "cell_type": "code",
   "execution_count": 9,
   "metadata": {},
   "outputs": [],
   "source": [
    "encoded_data = load_and_encode(\"data/HHO.yaml\")"
   ]
  },
  {
   "cell_type": "code",
   "execution_count": 10,
   "metadata": {},
   "outputs": [],
   "source": [
    "from scipy.optimize import minimize\n",
    "\n",
    "def VQEGetEnergyWrapper(var_params, molecule_data, num_samples) -> float:\n",
    "    theta1, theta2, theta3 = var_params\n",
    "    return VQEGetEnergy.simulate(\n",
    "        JWEncodedData=molecule_data,\n",
    "        theta1=theta1,\n",
    "        theta2=theta2,\n",
    "        theta3=theta3,\n",
    "        nSamples=num_samples\n",
    "    )\n",
    "\n",
    "def VQE_Classical_Routine(molecule_data, initial_var_params, num_samples):\n",
    "    \"\"\" Run VQE Optimization to find the optimal energy and the associated variational parameters \"\"\"\n",
    "    opt_result = minimize(\n",
    "        VQEGetEnergyWrapper,\n",
    "        initial_var_params,\n",
    "        args=(molecule_data, num_samples,),\n",
    "        method=\"COBYLA\",\n",
    "        tol=0.000001,\n",
    "        options={'disp': True, 'maxiter': 200,'rhobeg' : 0.05}\n",
    "    )\n",
    "\n",
    "    if opt_result.success:\n",
    "        print(opt_result.message)\n",
    "        print(f\"Lowest Energy: {opt_result.fun} Ha\")\n",
    "        print(f\"Number of evaluations: {opt_result.nfev}\")\n",
    "        print(f\"Optimal parameters found: {opt_result.x}\")\n",
    "\n",
    "    return opt_result"
   ]
  },
  {
   "cell_type": "code",
   "execution_count": 11,
   "metadata": {},
   "outputs": [],
   "source": [
    "# VQE_Classical_Routine(encoded_data_caffeine, [0.001, -0.001, 0.001], 10000000)"
   ]
  },
  {
   "cell_type": "code",
   "execution_count": 12,
   "metadata": {},
   "outputs": [
    {
     "name": "stdout",
     "output_type": "stream",
     "text": [
      "Optimization terminated successfully.\n",
      "Lowest Energy: -73.34845503070379 Ha\n",
      "Number of evaluations: 41\n",
      "Optimal parameters found: [-0.03322566 -0.01654004 -0.0348015 ]\n"
     ]
    },
    {
     "data": {
      "text/plain": [
       "     fun: -73.34845503070379\n",
       "   maxcv: 0.0\n",
       " message: 'Optimization terminated successfully.'\n",
       "    nfev: 41\n",
       "  status: 1\n",
       " success: True\n",
       "       x: array([-0.03322566, -0.01654004, -0.0348015 ])"
      ]
     },
     "execution_count": 12,
     "metadata": {},
     "output_type": "execute_result"
    }
   ],
   "source": [
    "VQE_Classical_Routine(encoded_data, [0.001, -0.001, 0.001], 100)"
   ]
  },
  {
   "cell_type": "code",
   "execution_count": 13,
   "metadata": {},
   "outputs": [
    {
     "data": {
      "text/plain": [
       "{'CNOT': 0,\n",
       " 'QubitClifford': 1393000,\n",
       " 'R': 0,\n",
       " 'Measure': 2089500,\n",
       " 'T': 0,\n",
       " 'Depth': 0,\n",
       " 'Width': 14,\n",
       " 'QubitCount': 14,\n",
       " 'BorrowedWidth': 0}"
      ]
     },
     "execution_count": 13,
     "metadata": {},
     "output_type": "execute_result"
    }
   ],
   "source": [
    "VQEGetEnergy.estimate_resources(\n",
    "    JWEncodedData=encoded_data,\n",
    "    theta1=0.001,\n",
    "    theta2=-0.001,\n",
    "    theta3=0.001,\n",
    "    nSamples=100\n",
    ")"
   ]
  },
  {
   "cell_type": "code",
   "execution_count": 14,
   "metadata": {},
   "outputs": [],
   "source": [
    "GetEnergyByTrotterization.simulate(\n",
    "    qSharpData=encoded_data,\n",
    "    nBitsPrecision=10,\n",
    "    trotterStepSize=0.2,\n",
    "    trotterOrder=1\n",
    ")"
   ]
  },
  {
   "cell_type": "code",
   "execution_count": null,
   "metadata": {},
   "outputs": [
    {
     "data": {
      "text/plain": [
       "{'CNOT': 1736992,\n",
       " 'QubitClifford': 1022362,\n",
       " 'R': 664444,\n",
       " 'Measure': 605,\n",
       " 'T': 0,\n",
       " 'Depth': 0,\n",
       " 'Width': 5,\n",
       " 'QubitCount': 5,\n",
       " 'BorrowedWidth': 0}"
      ]
     },
     "execution_count": 15,
     "metadata": {},
     "output_type": "execute_result"
    }
   ],
   "source": [
    "GetEnergyByTrotterization.estimate_resources(\n",
    "    qSharpData=encoded_data,\n",
    "    nBitsPrecision=10,\n",
    "    trotterStepSize=0.2,\n",
    "    trotterOrder=1\n",
    ")"
   ]
  }
 ],
 "metadata": {
  "kernelspec": {
   "display_name": "qscompat",
   "language": "python",
   "name": "python3"
  },
  "language_info": {
   "codemirror_mode": {
    "name": "ipython",
    "version": 3
   },
   "file_extension": ".py",
   "mimetype": "text/x-python",
   "name": "python",
   "nbconvert_exporter": "python",
   "pygments_lexer": "ipython3",
   "version": "3.7.16"
  },
  "orig_nbformat": 4
 },
 "nbformat": 4,
 "nbformat_minor": 2
}
